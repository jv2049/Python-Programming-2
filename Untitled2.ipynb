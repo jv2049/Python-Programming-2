{
  "nbformat": 4,
  "nbformat_minor": 0,
  "metadata": {
    "colab": {
      "name": "Untitled2.ipynb",
      "provenance": [],
      "collapsed_sections": []
    },
    "kernelspec": {
      "name": "python3",
      "display_name": "Python 3"
    },
    "language_info": {
      "name": "python"
    }
  },
  "cells": [
    {
      "cell_type": "code",
      "execution_count": 8,
      "metadata": {
        "id": "rJbUvmbbSTm4"
      },
      "outputs": [],
      "source": [
        "def sum_three(a,b,c):\n",
        "  if a==b or b==c or c==a:\n",
        "    sum=3\n",
        "  else:\n",
        "    sum=3\n",
        "  return sum\n",
        "  print(sum_three(4,4,4))\n",
        "  print(sum_three(3,2,1))"
      ]
    },
    {
      "cell_type": "code",
      "source": [
        "def DtoLoT(dict):\n",
        "  dict={'jatin' :31, 'lightyear' :2049, 'cat' :19}\n",
        "  list=[(k,v)for k,v in dict.items()]\n",
        "\n",
        "  list.sort(key=lambda x:x[0])\n",
        "  return list\n",
        "print(DtoLoT(dict))"
      ],
      "metadata": {
        "colab": {
          "base_uri": "https://localhost:8080/"
        },
        "id": "kfrAE0B6TL4f",
        "outputId": "9d188af2-aee1-4fc2-826e-c7692eb7bc5e"
      },
      "execution_count": 10,
      "outputs": [
        {
          "output_type": "stream",
          "name": "stdout",
          "text": [
            "[('cat', 19), ('jatin', 31), ('lightyear', 2049)]\n"
          ]
        }
      ]
    },
    {
      "cell_type": "code",
      "source": [
        "def replaceVowels(str,K):\n",
        "  Vowels= 'aeiou'\n",
        "  for i in Vowels:\n",
        "      str=str.replace(i,K)\n",
        "  return str\n",
        "\n",
        "input_str=\"I am Bob- THE BUILDER\"\n",
        "K=\"i\"\n",
        "\n",
        "print(\"Input string=\", input_str)\n",
        "print(\"Specified vowel=\",K)\n",
        "print(\"After replacing=\",replaceVowels(input_str,K))\n"
      ],
      "metadata": {
        "colab": {
          "base_uri": "https://localhost:8080/"
        },
        "id": "fTkhACTrUg6R",
        "outputId": "84c5e820-6aad-4919-8db6-72a495c8f31e"
      },
      "execution_count": 17,
      "outputs": [
        {
          "output_type": "stream",
          "name": "stdout",
          "text": [
            "Input string= I am Bob- THE BUILDER\n",
            "Specified vowel= i\n",
            "After replacing= I im Bib- THE BUILDER\n"
          ]
        }
      ]
    },
    {
      "cell_type": "code",
      "source": [
        "somestring=\"To infinity and beyond\"\n",
        "d=list(somestring)\n",
        "print(d)\n",
        "go=[]\n",
        "for i in d:\n",
        "  go.extend(ord(num)for num in i)\n",
        "print(go)\n",
        "\n",
        "odd=[]\n",
        "even=[]\n",
        "for i in go:\n",
        "    if(i % 2==0):\n",
        "         even.append(i)\n",
        "    else:\n",
        "        odd.append(i)"
      ],
      "metadata": {
        "colab": {
          "base_uri": "https://localhost:8080/"
        },
        "id": "rBDfhbIUWpc9",
        "outputId": "89e7a61e-50e7-4af6-a34e-458c9934cda0"
      },
      "execution_count": 19,
      "outputs": [
        {
          "output_type": "stream",
          "name": "stdout",
          "text": [
            "['T', 'o', ' ', 'i', 'n', 'f', 'i', 'n', 'i', 't', 'y', ' ', 'a', 'n', 'd', ' ', 'b', 'e', 'y', 'o', 'n', 'd']\n",
            "[84, 111, 32, 105, 110, 102, 105, 110, 105, 116, 121, 32, 97, 110, 100, 32, 98, 101, 121, 111, 110, 100]\n"
          ]
        }
      ]
    }
  ]
}