{
  "nbformat": 4,
  "nbformat_minor": 0,
  "metadata": {
    "colab": {
      "name": "Copy of Untitled0.ipynb",
      "provenance": [],
      "collapsed_sections": []
    },
    "kernelspec": {
      "name": "python3",
      "display_name": "Python 3"
    },
    "language_info": {
      "name": "python"
    }
  },
  "cells": [
    {
      "cell_type": "markdown",
      "source": [
        "Section A\n",
        "\n",
        "1)"
      ],
      "metadata": {
        "id": "1XEVj5vchdMQ"
      }
    },
    {
      "cell_type": "code",
      "execution_count": null,
      "metadata": {
        "colab": {
          "base_uri": "https://localhost:8080/"
        },
        "id": "_hQ_bYRwT1gN",
        "outputId": "2b793aa5-9dbb-4b48-bac4-7199f9312afc"
      },
      "outputs": [
        {
          "output_type": "stream",
          "name": "stdout",
          "text": [
            "Hello Python\n"
          ]
        }
      ],
      "source": [
        "print(\"Hello Python\")\n"
      ]
    },
    {
      "cell_type": "markdown",
      "source": [
        "2)"
      ],
      "metadata": {
        "id": "JKEfcKUGhmcf"
      }
    },
    {
      "cell_type": "code",
      "source": [
        "num1= 5\n",
        "num2= 5\n",
        "add= num1+num2\n",
        "div= num1/num2\n",
        "print(\"Addition\", add)\n",
        "print(\"Divsion\", div)"
      ],
      "metadata": {
        "colab": {
          "base_uri": "https://localhost:8080/"
        },
        "id": "cwqDTxQBUMbA",
        "outputId": "f72fb139-b023-42b1-9fac-0c821568f9cd"
      },
      "execution_count": null,
      "outputs": [
        {
          "output_type": "stream",
          "name": "stdout",
          "text": [
            "Addition 10\n",
            "Divsion 1.0\n"
          ]
        }
      ]
    },
    {
      "cell_type": "markdown",
      "source": [
        "3)"
      ],
      "metadata": {
        "id": "VN0OmG5phsHT"
      }
    },
    {
      "cell_type": "code",
      "source": [
        "base= int(input(\"Enter your value here: \"))\n",
        "height= int(input(\"Enter your value here: \"))\n",
        "t_area= ((1/2)*base*height)\n",
        "print(\"Area of triangle is\", t_area)"
      ],
      "metadata": {
        "colab": {
          "base_uri": "https://localhost:8080/"
        },
        "id": "OPXTV0xWXY-L",
        "outputId": "1ec7edda-df74-432f-bdaf-634ea597fee5"
      },
      "execution_count": null,
      "outputs": [
        {
          "output_type": "stream",
          "name": "stdout",
          "text": [
            "Enter your value here: 60\n",
            "Enter your value here: 30\n",
            "Area of triangle is 900.0\n"
          ]
        }
      ]
    },
    {
      "cell_type": "markdown",
      "source": [
        "5)"
      ],
      "metadata": {
        "id": "DL3siH52hwVr"
      }
    },
    {
      "cell_type": "code",
      "source": [
        "import random\n",
        "n=random.random()\n",
        "print(\"Number= \",n)"
      ],
      "metadata": {
        "colab": {
          "base_uri": "https://localhost:8080/"
        },
        "id": "fEDSp3ADYNMN",
        "outputId": "2a412620-b38f-4cb7-ae89-15ffc259b8c7"
      },
      "execution_count": null,
      "outputs": [
        {
          "output_type": "stream",
          "name": "stdout",
          "text": [
            "Number=  0.8358393091783463\n"
          ]
        }
      ]
    },
    {
      "cell_type": "code",
      "source": [
        "a=int(input(\"Enter the value in km: \"))\n",
        "b=a*0.62\n",
        "print(\"The value in miles is\", b)"
      ],
      "metadata": {
        "id": "OO9I1ssEepSL",
        "colab": {
          "base_uri": "https://localhost:8080/"
        },
        "outputId": "0942a678-4f6a-4e48-fa21-7d114a26673d"
      },
      "execution_count": null,
      "outputs": [
        {
          "output_type": "stream",
          "name": "stdout",
          "text": [
            "Enter the value in km: 79\n",
            "The value in miles is 48.98\n"
          ]
        }
      ]
    },
    {
      "cell_type": "code",
      "source": [
        "a=int(input(\"Enter the value in celcius: \"))\n",
        "b=(a*(9/5)+32)\n",
        "print(\"The value in Fahrenheit is\", b)"
      ],
      "metadata": {
        "colab": {
          "base_uri": "https://localhost:8080/"
        },
        "id": "2_Xmy99c_KM2",
        "outputId": "3ba725e2-380c-4252-ff2c-ca838c78c0a7"
      },
      "execution_count": null,
      "outputs": [
        {
          "output_type": "stream",
          "name": "stdout",
          "text": [
            "Enter the value in celcius: 27\n",
            "The value in Fahrenheit is 80.6\n"
          ]
        }
      ]
    },
    {
      "cell_type": "code",
      "source": [
        "import calendar\n",
        "year= 2022\n",
        "month= 8\n",
        "print(calendar.month(year, month))"
      ],
      "metadata": {
        "colab": {
          "base_uri": "https://localhost:8080/"
        },
        "id": "DkbWW0v0ABhq",
        "outputId": "82ff05ca-5b45-4c24-d046-7e076b59f370"
      },
      "execution_count": null,
      "outputs": [
        {
          "output_type": "stream",
          "name": "stdout",
          "text": [
            "    August 2022\n",
            "Mo Tu We Th Fr Sa Su\n",
            " 1  2  3  4  5  6  7\n",
            " 8  9 10 11 12 13 14\n",
            "15 16 17 18 19 20 21\n",
            "22 23 24 25 26 27 28\n",
            "29 30 31\n",
            "\n"
          ]
        }
      ]
    },
    {
      "cell_type": "code",
      "source": [
        "import cmath\n",
        "while True:\n",
        "  print(\"Enter 'x' for exit.\")\n",
        "  num1=input(\"Enter the value of a: \")\n",
        "  num2=input(\"Enter the value of b: \")\n",
        "  num3=input(\"Enter the value of c: \")\n",
        "  if num1 == 'x':\n",
        "    break\n",
        "  else:\n",
        "    number1=float(num1)\n",
        "    number2=float(num2)\n",
        "    number3=float(num3)\n",
        "    d=(number2**2)-(4*number1*number3)\n",
        "    r1=(-number2-cmath.sqrt(d))/(2*number1)\n",
        "    r2=(-number2+cmath.sqrt(d))/(2*number1)\n",
        "    print(\"The solutions = {0} and {1}\". format(r1, r2))"
      ],
      "metadata": {
        "colab": {
          "base_uri": "https://localhost:8080/"
        },
        "id": "1P60AsD-AkNL",
        "outputId": "105afe47-14c4-482f-9138-77609572c171"
      },
      "execution_count": null,
      "outputs": [
        {
          "name": "stdout",
          "output_type": "stream",
          "text": [
            "Enter 'x' for exit.\n",
            "Enter the value of a: 13\n",
            "Enter the value of b: 24\n",
            "Enter the value of c: 7\n",
            "The solutions = (-1.4830853760985012+0j) and (-0.36306847005534476+0j)\n",
            "Enter 'x' for exit.\n",
            "Enter the value of a: x\n",
            "Enter the value of b: x\n",
            "Enter the value of c: x\n"
          ]
        }
      ]
    },
    {
      "cell_type": "code",
      "source": [
        "a=int(input(\"Enter the value of a variable: \"))\n",
        "b=int(input(\"Enter the value of b variable: \"))\n",
        "print(\"Before swapping two variables: \")\n",
        "print(\"a= \",a , \"b= \",b)\n",
        "a,b=b,a\n",
        "print(\"After swapping two variables: \")\n",
        "print(\"a= \",a , \"b= \",b)"
      ],
      "metadata": {
        "colab": {
          "base_uri": "https://localhost:8080/"
        },
        "id": "vPtEj5OVC4Zi",
        "outputId": "b3bcbc61-c526-4950-e759-adc6885fae65"
      },
      "execution_count": null,
      "outputs": [
        {
          "output_type": "stream",
          "name": "stdout",
          "text": [
            "Enter the value of a variable: 22\n",
            "Enter the value of b variable: 43\n",
            "Before swapping two variables: \n",
            "a=  22 b=  43\n",
            "After swapping two variables: \n",
            "a=  43 b=  22\n"
          ]
        }
      ]
    },
    {
      "cell_type": "code",
      "source": [
        "a=int(input(\"Enter the value of an integer here: \"))\n",
        "if a < 0:\n",
        "  print(\"The number is negative\")\n",
        "elif a == 0:\n",
        "  print(\"The number is 0\")\n",
        "elif a > 0:\n",
        "  print(\"The number is positive\")\n",
        "else:\n",
        "  print(\"The input isn't an integer\")"
      ],
      "metadata": {
        "colab": {
          "base_uri": "https://localhost:8080/"
        },
        "id": "nwwweIQREjgQ",
        "outputId": "90ec3f19-4370-4c48-f113-8b7d3a648e88"
      },
      "execution_count": null,
      "outputs": [
        {
          "output_type": "stream",
          "name": "stdout",
          "text": [
            "Enter the value of an integer here: 12\n",
            "The number is positive\n"
          ]
        }
      ]
    },
    {
      "cell_type": "code",
      "source": [
        "a=int(input(\"Enter the number here: \"))\n",
        "if a % 2==0:\n",
        "  print(\"The number entered is an even number\")\n",
        "elif a % 2!=0:\n",
        "  print(\"The number entered is an odd number\")\n",
        "else:\n",
        "  print(\"The input isn't an integer\")"
      ],
      "metadata": {
        "colab": {
          "base_uri": "https://localhost:8080/"
        },
        "id": "wqMxyTyMFdo_",
        "outputId": "a5dab215-a12b-467a-e80c-ff8a9257361b"
      },
      "execution_count": null,
      "outputs": [
        {
          "output_type": "stream",
          "name": "stdout",
          "text": [
            "Enter the number here: 13\n",
            "The number entered is an odd number\n"
          ]
        }
      ]
    },
    {
      "cell_type": "code",
      "source": [
        "a=int(input(\"Enter the year: \"))\n",
        "if a % 4==0:\n",
        "  print(\"The year is a Leap Year\")\n",
        "elif a % 4 !=0:\n",
        "  print(\"The year isn't a Leap Year\")\n",
        "else:\n",
        "  print(\"Enter appropriate value\")"
      ],
      "metadata": {
        "colab": {
          "base_uri": "https://localhost:8080/"
        },
        "id": "9mm92chgF_8U",
        "outputId": "1f60701c-3b93-4d9b-f903-178343a18848"
      },
      "execution_count": null,
      "outputs": [
        {
          "output_type": "stream",
          "name": "stdout",
          "text": [
            "Enter the year: 2022\n",
            "The year isn't a Leap Year\n"
          ]
        }
      ]
    },
    {
      "cell_type": "code",
      "source": [
        "a=int(input(\"Enter the number here: \"))\n",
        "if a > 1:\n",
        "  for i in range(2, a):\n",
        "    if (a % i)==0:\n",
        "      print(a, \"Number is not a prime number\")\n",
        "      break\n",
        "  else:\n",
        "    print(\"The number is a prime number\")"
      ],
      "metadata": {
        "colab": {
          "base_uri": "https://localhost:8080/"
        },
        "id": "jlag-J8oGuSh",
        "outputId": "d7c0e8fe-6783-4401-b250-4332ca132f9e"
      },
      "execution_count": null,
      "outputs": [
        {
          "output_type": "stream",
          "name": "stdout",
          "text": [
            "Enter the number here: 14\n",
            "14 Number is not a prime number\n"
          ]
        }
      ]
    },
    {
      "cell_type": "code",
      "source": [
        "primes = []\n",
        "for possiblePrime in range(1, 10000):\n",
        "  isPrime= True\n",
        "  for num in range (1, possiblePrime):\n",
        "    if possiblePrime % num == 0:\n",
        "      isPrime = False\n",
        "  if isPrime:\n",
        "    primes.append(possiblePrime)"
      ],
      "metadata": {
        "id": "hMwk7sJqI7AJ"
      },
      "execution_count": null,
      "outputs": []
    },
    {
      "cell_type": "code",
      "source": [
        "a=int(input(\"Enter a number here: \"))\n",
        "fact=1\n",
        "for i in range(1,a+1):\n",
        "  fact = fact*i\n",
        "print(\"The factorial of\",a,\"is\", fact)"
      ],
      "metadata": {
        "colab": {
          "base_uri": "https://localhost:8080/"
        },
        "id": "-LBopn07OQ-H",
        "outputId": "c3bdea23-432e-4e16-d16a-2433512685d0"
      },
      "execution_count": null,
      "outputs": [
        {
          "output_type": "stream",
          "name": "stdout",
          "text": [
            "Enter a number here: 39\n",
            "The factorial of 39 is 20397882081197443358640281739902897356800000000\n"
          ]
        }
      ]
    },
    {
      "cell_type": "code",
      "source": [
        "a=int(input(\"Please enter any positive integer less than 10: \"))\n",
        "print(\"Multiplication Table\")\n",
        "for i in range(a,11):\n",
        "  for j in range(1,11):\n",
        "    print(\"{0} * {1} = {2}\".format(i , j , i*j))\n",
        "  print(\"===========\")"
      ],
      "metadata": {
        "colab": {
          "base_uri": "https://localhost:8080/"
        },
        "id": "ujA6PM-sR-_G",
        "outputId": "a154d1ee-365e-41b8-ef66-704dd2a779ed"
      },
      "execution_count": null,
      "outputs": [
        {
          "output_type": "stream",
          "name": "stdout",
          "text": [
            "Please enter any positive integer less than 10: 10\n",
            "Multiplication Table\n",
            "10 * 1 = 10\n",
            "10 * 2 = 20\n",
            "10 * 3 = 30\n",
            "10 * 4 = 40\n",
            "10 * 5 = 50\n",
            "10 * 6 = 60\n",
            "10 * 7 = 70\n",
            "10 * 8 = 80\n",
            "10 * 9 = 90\n",
            "10 * 10 = 100\n",
            "===========\n"
          ]
        }
      ]
    },
    {
      "cell_type": "code",
      "source": [
        "def fibFind(num):\n",
        "  if(num == 0):\n",
        "    return 0\n",
        "  elif(num == 1):\n",
        "    return 1\n",
        "  else:\n",
        "    return (fibFind(num-2)+ fibFind(num-1))\n",
        "num=int(input(\"\\n please Enter the Range Number: \"))\n",
        "for Num in range(0,num):\n",
        "  print(fibFind(Num))"
      ],
      "metadata": {
        "colab": {
          "base_uri": "https://localhost:8080/"
        },
        "id": "hwD_y-RqTXO3",
        "outputId": "1f3d41b9-aa6b-43d3-8a83-a8be3ffb96df"
      },
      "execution_count": null,
      "outputs": [
        {
          "output_type": "stream",
          "name": "stdout",
          "text": [
            "\n",
            " please Enter the Range Number: 5\n",
            "0\n",
            "1\n",
            "1\n",
            "2\n",
            "3\n"
          ]
        }
      ]
    },
    {
      "cell_type": "code",
      "source": [
        "num = int(input(\"Enter a num: \"))\n",
        "sum = 0\n",
        "temp = num\n",
        "while temp > 0:\n",
        "  digit = temp % 10\n",
        "  sum += digit**3\n",
        "  temp //=10\n",
        "if num == sum:\n",
        "  print(num, \"is an Armstrong Number\")\n",
        "else:\n",
        "  print(num, \"is not an Armstrong Number\")\n"
      ],
      "metadata": {
        "colab": {
          "base_uri": "https://localhost:8080/"
        },
        "id": "XSRKyENSgSIL",
        "outputId": "f326ce3e-ee40-4595-e1d2-3a4d200fc25f"
      },
      "execution_count": null,
      "outputs": [
        {
          "output_type": "stream",
          "name": "stdout",
          "text": [
            "Enter a num: 12\n",
            "12 is not an Armstrong Number\n"
          ]
        }
      ]
    },
    {
      "cell_type": "code",
      "source": [
        "num = int(input(\"Enter the number here: \"))\n",
        "hold = num\n",
        "sum = 0\n",
        "if num<=0:\n",
        "  print(\"Enter a whole number\")\n",
        "else:\n",
        "  while num > 0:\n",
        "    sum = sum + num\n",
        "    num = num-1\n",
        "  print(\"Sum of first\", hold, \"natural numbers is: \",sum)"
      ],
      "metadata": {
        "colab": {
          "base_uri": "https://localhost:8080/"
        },
        "id": "raGNV2YujuzY",
        "outputId": "f6901dc9-aa4c-4cea-bc50-4b1033f86b66"
      },
      "execution_count": null,
      "outputs": [
        {
          "output_type": "stream",
          "name": "stdout",
          "text": [
            "Enter the number here: 16\n",
            "Sum of first 16 natural numbers is:  136\n"
          ]
        }
      ]
    },
    {
      "cell_type": "code",
      "source": [
        "age = [29, 12, 19]\n",
        "theSum = 0\n",
        "def sumArray():\n",
        "  addition = 0\n",
        "  for i in age:\n",
        "    addition = addition + i\n",
        "  print(addition)\n",
        "sumArray()"
      ],
      "metadata": {
        "colab": {
          "base_uri": "https://localhost:8080/"
        },
        "id": "OMzsO0-ymA76",
        "outputId": "385f7a1f-c339-4cec-96d5-7d9ac89f195a"
      },
      "execution_count": null,
      "outputs": [
        {
          "output_type": "stream",
          "name": "stdout",
          "text": [
            "60\n"
          ]
        }
      ]
    },
    {
      "cell_type": "code",
      "source": [
        "def largestFun(arr,n):\n",
        "  maxNum=arr[0]\n",
        "  for i in range(1, n):\n",
        "    if arr[i] > maxNum:\n",
        "      maxNum = arr[i]\n",
        "  return maxNum\n",
        "arr = [12, 888, 799, 65, 911]\n",
        "n = len(arr)\n",
        "largestElement = largestFun(arr,n)\n",
        "print(\"Largest element in the given array is \", largestElement)"
      ],
      "metadata": {
        "colab": {
          "base_uri": "https://localhost:8080/"
        },
        "id": "bx3klLWYmoNI",
        "outputId": "4c7c8442-3edc-4123-ae9b-7ada81c1ce3a"
      },
      "execution_count": null,
      "outputs": [
        {
          "output_type": "stream",
          "name": "stdout",
          "text": [
            "Largest element in the given array is  911\n"
          ]
        }
      ]
    },
    {
      "cell_type": "code",
      "source": [
        "def rotate(self, nums, k):\n",
        "  length = len(nums)\n",
        "  k = k % length\n",
        "  reverse(nums, 0, length-1)\n",
        "  reverse(nums, 0, k-1)\n",
        "  reverse(nums, k, length-1)\n",
        "  print(nums)\n",
        "def reverse(self, list, left, right):\n",
        "  while left < right:\n",
        "    list[left], list[right] = list[right], list[left]\n",
        "    left += 1\n",
        "    right -= 1\n",
        "  return list"
      ],
      "metadata": {
        "id": "kzE_Ckqyn6ny"
      },
      "execution_count": null,
      "outputs": []
    },
    {
      "cell_type": "code",
      "source": [
        "def splitArr(arr,n,k):\n",
        "  for i in range(0,k):\n",
        "    x=arr[0]\n",
        "    for j in range(0,n-1):\n",
        "      arr[j]=arr[j+1]\n",
        "    arr[n-1]=x\n",
        "arr=[23,24,25,26,27]\n",
        "n=len(arr)\n",
        "position=2"
      ],
      "metadata": {
        "id": "9AwPWDvqs41J"
      },
      "execution_count": null,
      "outputs": []
    }
  ]
}