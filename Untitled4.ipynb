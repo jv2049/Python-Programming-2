{
  "nbformat": 4,
  "nbformat_minor": 0,
  "metadata": {
    "colab": {
      "provenance": [],
      "collapsed_sections": [],
      "authorship_tag": "ABX9TyNW8hLDvk6awVTwQ+yhU06b",
      "include_colab_link": true
    },
    "kernelspec": {
      "name": "python3",
      "display_name": "Python 3"
    },
    "language_info": {
      "name": "python"
    }
  },
  "cells": [
    {
      "cell_type": "markdown",
      "metadata": {
        "id": "view-in-github",
        "colab_type": "text"
      },
      "source": [
        "<a href=\"https://colab.research.google.com/github/jv2049/Python-Programming-2/blob/main/Untitled4.ipynb\" target=\"_parent\"><img src=\"https://colab.research.google.com/assets/colab-badge.svg\" alt=\"Open In Colab\"/></a>"
      ]
    },
    {
      "cell_type": "code",
      "execution_count": null,
      "metadata": {
        "colab": {
          "base_uri": "https://localhost:8080/"
        },
        "id": "xHHbmfNHjKau",
        "outputId": "4fda2782-bc6c-4692-db17-b0d9cb350d2c"
      },
      "outputs": [
        {
          "output_type": "stream",
          "name": "stdout",
          "text": [
            "186 23\n"
          ]
        }
      ],
      "source": [
        "class Vehicle:\n",
        "    def __init__(self, max_speed, mileage):\n",
        "        self.max_speed = max_speed\n",
        "        self.mileage = mileage\n",
        "        \n",
        "        \n",
        "car = Vehicle(186,23 )\n",
        "print(car.max_speed, car.mileage)"
      ]
    },
    {
      "cell_type": "code",
      "source": [
        "class Vehicle:\n",
        "    pass"
      ],
      "metadata": {
        "id": "A1qAZSbWlyqI"
      },
      "execution_count": null,
      "outputs": []
    },
    {
      "cell_type": "code",
      "source": [
        "class Vehicle:\n",
        "\n",
        "    def __init__(self, name, max_speed, mileage):                \n",
        "        self.name = name\n",
        "        self.max_speed = max_speed\n",
        "        self.mileage = mileage"
      ],
      "metadata": {
        "id": "tXfQVEPMmVzA"
      },
      "execution_count": null,
      "outputs": []
    },
    {
      "cell_type": "code",
      "source": [
        "class Vehicle:\n",
        "    def __init__(self, name, mileage, capacity):\n",
        "        self.name = name\n",
        "        self.mileage = mileage\n",
        "        self.capacity = capacity\n",
        "\n",
        "    def fare(self):\n",
        "        return self.capacity * 100\n",
        "\n",
        "class Bus(Vehicle):\n",
        "    pass\n",
        "\n",
        "School_bus = Bus(\"School Volvo\", 13, 96)\n",
        "print(\"Total Bus fare is:\", School_bus.fare())"
      ],
      "metadata": {
        "colab": {
          "base_uri": "https://localhost:8080/"
        },
        "id": "_MtXxznEml-T",
        "outputId": "65313ffe-aed1-4a43-fd7a-37b4d3268e9c"
      },
      "execution_count": 7,
      "outputs": [
        {
          "output_type": "stream",
          "name": "stdout",
          "text": [
            "Total Bus fare is: 9600\n"
          ]
        }
      ]
    },
    {
      "cell_type": "code",
      "source": [
        "class Vehicle:\n",
        "    def __init__(self, name, mileage, capacity):\n",
        "        self.name = name\n",
        "        self.mileage = mileage\n",
        "        self.capacity = capacity\n",
        "\n",
        "    def fare(self):\n",
        "        return self.capacity * 100\n",
        "\n",
        "class Bus(Vehicle):\n",
        "    pass\n",
        "\n",
        "School_bus = Bus(\"School Volvo\", 13, 96)\n",
        "print(\"Total Bus fare is:\", School_bus.fare()) \n",
        "\n",
        "class Vehicle:\n",
        "    def __init__(self, name, mileage, capacity):\n",
        "        self.name = name\n",
        "        self.mileage = mileage\n",
        "        self.capacity = capacity\n",
        "\n",
        "    def fare(self):\n",
        "        return self.capacity * 100\n",
        "\n",
        "class Bus(Vehicle):\n",
        "    pass\n",
        "\n",
        "School_bus = Bus(\"School Volvo\", 13, 96)\n",
        "print(\"Total Bus fare is:\", School_bus.fare())\n",
        "\n"
      ],
      "metadata": {
        "colab": {
          "base_uri": "https://localhost:8080/"
        },
        "id": "dBpN3GW3uOXq",
        "outputId": "48a5d95e-71af-4018-8655-b50e561c1a8b"
      },
      "execution_count": 12,
      "outputs": [
        {
          "output_type": "stream",
          "name": "stdout",
          "text": [
            "Total Bus fare is: 9600\n",
            "Total Bus fare is: 9600\n"
          ]
        }
      ]
    }
  ]
}